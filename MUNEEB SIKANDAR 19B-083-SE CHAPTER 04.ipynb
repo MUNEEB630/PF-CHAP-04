{
 "cells": [
  {
   "cell_type": "markdown",
   "metadata": {},
   "source": [
    "# QUESTION-4.12:"
   ]
  },
  {
   "cell_type": "code",
   "execution_count": 1,
   "metadata": {},
   "outputs": [
    {
     "name": "stdout",
     "output_type": "stream",
     "text": [
      "bcd\n"
     ]
    }
   ],
   "source": [
    "#A\n",
    "s='abcdefghijklmnopqrstuvwxyz'\n",
    "x=s[1:4]\n",
    "print(x)\n"
   ]
  },
  {
   "cell_type": "code",
   "execution_count": 2,
   "metadata": {},
   "outputs": [
    {
     "name": "stdout",
     "output_type": "stream",
     "text": [
      "abc\n"
     ]
    }
   ],
   "source": [
    "#B\n",
    "s='abcdefghijklmnopqrstuvwxyz'\n",
    "x=s[:3]\n",
    "print(x)"
   ]
  },
  {
   "cell_type": "code",
   "execution_count": 3,
   "metadata": {},
   "outputs": [
    {
     "name": "stdout",
     "output_type": "stream",
     "text": [
      "defghijklmnopqrstuvwx\n"
     ]
    }
   ],
   "source": [
    "#C\n",
    "s='abcdefghijklmnopqrstuvwxyz'\n",
    "x=s[3:24]\n",
    "print(x)"
   ]
  },
  {
   "cell_type": "code",
   "execution_count": 5,
   "metadata": {},
   "outputs": [
    {
     "name": "stdout",
     "output_type": "stream",
     "text": [
      "wxy\n"
     ]
    }
   ],
   "source": [
    "#D\n",
    "s='abcdefghijklmnopqrstuvwxyz'\n",
    "x=s[22:25]\n",
    "print(x)"
   ]
  },
  {
   "cell_type": "code",
   "execution_count": 7,
   "metadata": {},
   "outputs": [
    {
     "name": "stdout",
     "output_type": "stream",
     "text": [
      "wxyz\n"
     ]
    }
   ],
   "source": [
    "#E\n",
    "s='abcdefghijklmnopqrstuvwxyz'\n",
    "x=s[22:26]\n",
    "print(x)"
   ]
  },
  {
   "cell_type": "markdown",
   "metadata": {},
   "source": [
    "# QUESTION-4.13:"
   ]
  },
  {
   "cell_type": "code",
   "execution_count": 10,
   "metadata": {},
   "outputs": [
    {
     "name": "stdout",
     "output_type": "stream",
     "text": [
      "bc\n"
     ]
    }
   ],
   "source": [
    "#A\n",
    "s='abcdefghijklmnopqrstuvwxyz'\n",
    "x=s[1:3]\n",
    "print(x)"
   ]
  },
  {
   "cell_type": "code",
   "execution_count": 12,
   "metadata": {},
   "outputs": [
    {
     "name": "stdout",
     "output_type": "stream",
     "text": [
      "abcdefghijklmn\n"
     ]
    }
   ],
   "source": [
    "#B\n",
    "s='abcdefghijklmnopqrstuvwxyz'\n",
    "x=s[:14]\n",
    "print(x)"
   ]
  },
  {
   "cell_type": "code",
   "execution_count": 15,
   "metadata": {},
   "outputs": [
    {
     "name": "stdout",
     "output_type": "stream",
     "text": [
      "opqrstuvwxyz\n"
     ]
    }
   ],
   "source": [
    "#C\n",
    "s='abcdefghijklmnopqrstuvwxyz'\n",
    "x=s[14:26]\n",
    "print(x)"
   ]
  },
  {
   "cell_type": "code",
   "execution_count": 17,
   "metadata": {},
   "outputs": [
    {
     "name": "stdout",
     "output_type": "stream",
     "text": [
      "bcdefghijklmnopqrstuvw\n"
     ]
    }
   ],
   "source": [
    "#D\n",
    "s='abcdefghijklmnopqrstuvwxyz'\n",
    "x=s[1:23]\n",
    "print(x)"
   ]
  },
  {
   "cell_type": "markdown",
   "metadata": {},
   "source": [
    "# QUESTION 4.14:"
   ]
  },
  {
   "cell_type": "code",
   "execution_count": null,
   "metadata": {},
   "outputs": [],
   "source": []
  },
  {
   "cell_type": "markdown",
   "metadata": {},
   "source": [
    "# QUESTION 4.15:"
   ]
  },
  {
   "cell_type": "code",
   "execution_count": 12,
   "metadata": {},
   "outputs": [
    {
     "name": "stdout",
     "output_type": "stream",
     "text": [
      "['10', '20', '30', '40', '50', '60']\n"
     ]
    }
   ],
   "source": [
    "#A\n",
    "s='10 20 30 40 50 60'\n",
    "x=s.split(' ')\n",
    "print(x)"
   ]
  },
  {
   "cell_type": "code",
   "execution_count": 13,
   "metadata": {},
   "outputs": [
    {
     "name": "stdout",
     "output_type": "stream",
     "text": [
      "['10', '20', '30', '40', '50', '60']\n"
     ]
    }
   ],
   "source": [
    "#B\n",
    "s='10,20,30,40,50,60'\n",
    "x=s.split(',')\n",
    "print(x)"
   ]
  },
  {
   "cell_type": "code",
   "execution_count": 14,
   "metadata": {},
   "outputs": [
    {
     "name": "stdout",
     "output_type": "stream",
     "text": [
      "['10', '20', '30', '40', '50', '60']\n"
     ]
    }
   ],
   "source": [
    "#C\n",
    "s='10&20&30&40&50&60'\n",
    "x=s.split('&')\n",
    "print(x)"
   ]
  },
  {
   "cell_type": "code",
   "execution_count": 15,
   "metadata": {},
   "outputs": [
    {
     "name": "stdout",
     "output_type": "stream",
     "text": [
      "['10', '20', '30', '40', '50', '60']\n"
     ]
    }
   ],
   "source": [
    "#D\n",
    "s='10-20-30-40-50-60'\n",
    "x=s.split('-')\n",
    "print(x)"
   ]
  },
  {
   "cell_type": "markdown",
   "metadata": {},
   "source": [
    "# QUESTION 4.16:"
   ]
  },
  {
   "cell_type": "code",
   "execution_count": 24,
   "metadata": {},
   "outputs": [
    {
     "name": "stdout",
     "output_type": "stream",
     "text": [
      "Enter first word :  bass\n",
      "Enter second word :  salmon\n",
      "Enter third word :  whitefish\n",
      "True\n"
     ]
    }
   ],
   "source": [
    "def dictionary(a,b,c):\n",
    "    d={'a':'bass','b':'salmon','c':'whitefish'}\n",
    "    print('Enter first word : ',a)\n",
    "    print('Enter second word : ',b)\n",
    "    print('Enter third word : ',c)\n",
    "    if (a and b and c) in d.values():\n",
    "        print('True')\n",
    "    else:\n",
    "        print('False')\n",
    "dictionary('bass','salmon','whitefish')"
   ]
  },
  {
   "cell_type": "markdown",
   "metadata": {},
   "source": [
    "# QUESTION 4.17:"
   ]
  },
  {
   "cell_type": "code",
   "execution_count": 25,
   "metadata": {},
   "outputs": [
    {
     "name": "stdout",
     "output_type": "stream",
     "text": [
      "The secret of this message is that it is secret\n",
      "47\n",
      "2\n",
      "The xxxxx of this message is that it is xxxxx\n"
     ]
    }
   ],
   "source": [
    "message='The secret of this message is that it is secret'\n",
    "length=len(message)\n",
    "count=message.count('secret')\n",
    "censored=message.replace('secret','xxxxx')\n",
    "print(message)\n",
    "print(length)\n",
    "print(count)\n",
    "print(censored)"
   ]
  },
  {
   "cell_type": "markdown",
   "metadata": {},
   "source": [
    "# QUESTION 4.18:"
   ]
  },
  {
   "cell_type": "code",
   "execution_count": 34,
   "metadata": {},
   "outputs": [
    {
     "name": "stdout",
     "output_type": "stream",
     "text": [
      "It was the best of times, it was the worst of times      it was the age of wisdom,it was the age of foolishness      it was the epoch of belief,it was the epoch of incredulity       it was...\n"
     ]
    }
   ],
   "source": [
    "s='''It was the best of times, it was the worst of times;it was the age of wisdom,it was the age of foolishness;it was the epoch of belief,it was the epoch of incredulity; it was...'''\n",
    "x=s.replace(';','      ')\n",
    "print(x)\n"
   ]
  },
  {
   "cell_type": "markdown",
   "metadata": {},
   "source": [
    "# QUESTION 4.19:"
   ]
  },
  {
   "cell_type": "code",
   "execution_count": 40,
   "metadata": {},
   "outputs": [
    {
     "name": "stdout",
     "output_type": "stream",
     "text": [
      "Sigel, Marlena Mae\n"
     ]
    }
   ],
   "source": [
    "#A\n",
    "first='Marlena'\n",
    "last='Sigel'\n",
    "middle='Mae'\n",
    "print('{}, {} {}'.format(last,first,middle))"
   ]
  },
  {
   "cell_type": "code",
   "execution_count": 38,
   "metadata": {},
   "outputs": [
    {
     "name": "stdout",
     "output_type": "stream",
     "text": [
      "Sigel, Marlena M.\n"
     ]
    }
   ],
   "source": [
    "#B\n",
    "first='Marlena'\n",
    "last='Sigel'\n",
    "middle='Mae'\n",
    "print('{}, {} {}.'.format(last,first,middle[0]))"
   ]
  },
  {
   "cell_type": "code",
   "execution_count": 41,
   "metadata": {},
   "outputs": [
    {
     "name": "stdout",
     "output_type": "stream",
     "text": [
      "Marlena M. Sigel\n"
     ]
    }
   ],
   "source": [
    "#C\n",
    "first='Marlena'\n",
    "last='Sigel'\n",
    "middle='Mae'\n",
    "print('{} {}. {}'.format(first,middle[0],last))"
   ]
  },
  {
   "cell_type": "code",
   "execution_count": 45,
   "metadata": {},
   "outputs": [
    {
     "name": "stdout",
     "output_type": "stream",
     "text": [
      "M. M. Sigel\n"
     ]
    }
   ],
   "source": [
    "#D\n",
    "first='Marlena'\n",
    "last='Sigel'\n",
    "middle='Mae'\n",
    "print('{}. {}. {}'.format(middle[0],middle[0],last))"
   ]
  },
  {
   "cell_type": "code",
   "execution_count": 44,
   "metadata": {},
   "outputs": [
    {
     "name": "stdout",
     "output_type": "stream",
     "text": [
      "Sigel, M.\n"
     ]
    }
   ],
   "source": [
    "#E\n",
    "first='Marlena'\n",
    "last='Sigel'\n",
    "middle='Mae'\n",
    "print('{}, {}.'.format(last,middle[0]))"
   ]
  },
  {
   "cell_type": "markdown",
   "metadata": {},
   "source": [
    "# QUESTION 4.20:"
   ]
  },
  {
   "cell_type": "code",
   "execution_count": 47,
   "metadata": {},
   "outputs": [
    {
     "name": "stdout",
     "output_type": "stream",
     "text": [
      "From: tim@abc.com \n",
      " To: ton@xyz.org \n",
      " Subject: Hello!\n"
     ]
    }
   ],
   "source": [
    "sender='tim@abc.com'\n",
    "recipient='ton@xyz.org'\n",
    "subject='Hello!'\n",
    "print('From: {} \\n To: {} \\n Subject: {}'.format(sender,recipient,subject))"
   ]
  },
  {
   "cell_type": "markdown",
   "metadata": {},
   "source": [
    "# QUESTION 4.21:"
   ]
  },
  {
   "cell_type": "code",
   "execution_count": 64,
   "metadata": {},
   "outputs": [
    {
     "name": "stdout",
     "output_type": "stream",
     "text": [
      "3.1\n",
      "2.7e+00\n"
     ]
    }
   ],
   "source": [
    "#A\n",
    "from math import pi\n",
    "print('{:1.1f}'.format(pi))\n",
    "print('{:1.1e}'.format(e))"
   ]
  },
  {
   "cell_type": "code",
   "execution_count": 66,
   "metadata": {},
   "outputs": [
    {
     "name": "stdout",
     "output_type": "stream",
     "text": [
      "3.14\n",
      "2.72e+00\n"
     ]
    }
   ],
   "source": [
    "#B\n",
    "from math import pi\n",
    "print('{:1.2f}'.format(pi))\n",
    "print('{:1.2e}'.format(e))\n"
   ]
  },
  {
   "cell_type": "code",
   "execution_count": 68,
   "metadata": {},
   "outputs": [
    {
     "name": "stdout",
     "output_type": "stream",
     "text": [
      "3.141593e+00\n",
      "2.718282e+00\n"
     ]
    }
   ],
   "source": [
    "#C\n",
    "from math import pi\n",
    "print('{:e}'.format(pi))\n",
    "print('{:e}'.format(e))"
   ]
  },
  {
   "cell_type": "code",
   "execution_count": 70,
   "metadata": {},
   "outputs": [
    {
     "name": "stdout",
     "output_type": "stream",
     "text": [
      "3.14159\n",
      "2.71828\n"
     ]
    }
   ],
   "source": [
    "#D\n",
    "from math import pi\n",
    "print('{:1.5f}'.format(pi))\n",
    "print('{:1.5f}'.format(e))"
   ]
  },
  {
   "cell_type": "markdown",
   "metadata": {},
   "source": [
    "# QUESTION  4.22:"
   ]
  },
  {
   "cell_type": "code",
   "execution_count": 27,
   "metadata": {},
   "outputs": [],
   "source": [
    "def month(x):\n",
    "    x={1:'jan',2:'Feb',3:'Mar',4:'apr',5:'May',6:'jun',7:'july',8:'aug',9:'sep',10:'oct',11:'nov',12:'dec'}\n",
    "    \n",
    "        "
   ]
  },
  {
   "cell_type": "markdown",
   "metadata": {},
   "source": [
    "# QUESTION 4.23:"
   ]
  },
  {
   "cell_type": "code",
   "execution_count": 78,
   "metadata": {},
   "outputs": [
    {
     "name": "stdout",
     "output_type": "stream",
     "text": [
      "Enter a sentance:  A sample sentence\n",
      "3.5\n"
     ]
    }
   ],
   "source": [
    "def average():\n",
    "    a=3\n",
    "    b=4\n",
    "    x=(a+b)/2\n",
    "    print('Enter a sentance: ','A sample sentence')\n",
    "    print(x)\n",
    "average()"
   ]
  },
  {
   "cell_type": "markdown",
   "metadata": {},
   "source": [
    "# QUESTION 4.24:"
   ]
  },
  {
   "cell_type": "code",
   "execution_count": 82,
   "metadata": {},
   "outputs": [
    {
     "name": "stdout",
     "output_type": "stream",
     "text": [
      "How do you spell winner? \n",
      " I know! I know! \n",
      " H U S K I E S ! \n",
      " And thats how you spell winner! \n",
      " Go Huskies!\n"
     ]
    }
   ],
   "source": [
    "def cheer(Huskies):\n",
    "    a='How do you spell winner'\n",
    "    b='I know! I know'\n",
    "    c='H U S K I E S'\n",
    "    d='And thats how you spell winner'\n",
    "    e='Go Huskies'\n",
    "    print('{}? \\n {}! \\n {} ! \\n {}! \\n {}!'.format(a,b,c,d,e))\n",
    "cheer('Huskies')"
   ]
  },
  {
   "cell_type": "markdown",
   "metadata": {},
   "source": [
    "# QUESTION 4.25:"
   ]
  },
  {
   "cell_type": "code",
   "execution_count": 7,
   "metadata": {},
   "outputs": [
    {
     "name": "stdout",
     "output_type": "stream",
     "text": [
      "a, e, i, o, u appears 1 0 1 0 0\n"
     ]
    }
   ],
   "source": [
    "def vowelcount(x):\n",
    "    vow='AEIOUaeiou'\n",
    "    a = 0\n",
    "    e = 0\n",
    "    y = 0\n",
    "    o = 0\n",
    "    u = 0\n",
    "    for i in x:\n",
    "        if i in vow:\n",
    "            if i == 'a' or i == \"A\":\n",
    "                a += 1\n",
    "            if i == 'e' or i == \"E\":\n",
    "                e += 1\n",
    "            if i == 'i' or i == \"I\":\n",
    "                y += 1\n",
    "            if i == 'o' or i == \"O\":\n",
    "                o += 1\n",
    "            if i == 'u' or i == \"U\":\n",
    "                u += 1\n",
    "    print('a, e, i, o, u appears {} {} {} {} {}'.format(a,e,y,o,u))\n",
    "vowelcount(\"MUNEEB\")\n"
   ]
  },
  {
   "cell_type": "markdown",
   "metadata": {},
   "source": [
    "# QUESTION 4.26:"
   ]
  },
  {
   "cell_type": "code",
   "execution_count": 2,
   "metadata": {},
   "outputs": [
    {
     "data": {
      "text/plain": [
       "'I will tell you my xxxxx.But first,I have to explain why it is a xxxxx.'"
      ]
     },
     "execution_count": 2,
     "metadata": {},
     "output_type": "execute_result"
    }
   ],
   "source": [
    "def crypto(x):\n",
    "    infile=open(x)\n",
    "    r = infile.read()\n",
    "    y = r.replace('secret','xxxxx')\n",
    "    infile.close()\n",
    "    return y\n",
    "crypto('4.26.txt')"
   ]
  },
  {
   "cell_type": "markdown",
   "metadata": {},
   "source": [
    "# QUESTION 4.27:"
   ]
  },
  {
   "cell_type": "code",
   "execution_count": 10,
   "metadata": {},
   "outputs": [
    {
     "ename": "NameError",
     "evalue": "name 'infile' is not defined",
     "output_type": "error",
     "traceback": [
      "\u001b[1;31m---------------------------------------------------------------------------\u001b[0m",
      "\u001b[1;31mNameError\u001b[0m                                 Traceback (most recent call last)",
      "\u001b[1;32m<ipython-input-10-c81dbabf14bb>\u001b[0m in \u001b[0;36m<module>\u001b[1;34m\u001b[0m\n\u001b[0;32m      6\u001b[0m     \u001b[0moutfile\u001b[0m\u001b[1;33m.\u001b[0m\u001b[0mwrite\u001b[0m\u001b[1;33m(\u001b[0m\u001b[1;34m'muh'\u001b[0m\u001b[1;33m)\u001b[0m\u001b[1;33m\u001b[0m\u001b[1;33m\u001b[0m\u001b[0m\n\u001b[0;32m      7\u001b[0m     \u001b[0moutfile\u001b[0m\u001b[1;33m.\u001b[0m\u001b[0mclose\u001b[0m\u001b[1;33m(\u001b[0m\u001b[1;33m)\u001b[0m\u001b[1;33m\u001b[0m\u001b[1;33m\u001b[0m\u001b[0m\n\u001b[1;32m----> 8\u001b[1;33m \u001b[0mfcopy\u001b[0m\u001b[1;33m(\u001b[0m\u001b[1;34m'4.27_1.txt'\u001b[0m\u001b[1;33m,\u001b[0m\u001b[1;34m'4.27_2.txt'\u001b[0m\u001b[1;33m)\u001b[0m\u001b[1;33m\u001b[0m\u001b[1;33m\u001b[0m\u001b[0m\n\u001b[0m\u001b[0;32m      9\u001b[0m \u001b[1;33m\u001b[0m\u001b[0m\n\u001b[0;32m     10\u001b[0m \u001b[1;33m\u001b[0m\u001b[0m\n",
      "\u001b[1;32m<ipython-input-10-c81dbabf14bb>\u001b[0m in \u001b[0;36mfcopy\u001b[1;34m(file1, file2)\u001b[0m\n\u001b[0;32m      1\u001b[0m \u001b[1;32mdef\u001b[0m \u001b[0mfcopy\u001b[0m\u001b[1;33m(\u001b[0m\u001b[0mfile1\u001b[0m\u001b[1;33m,\u001b[0m\u001b[0mfile2\u001b[0m\u001b[1;33m)\u001b[0m\u001b[1;33m:\u001b[0m\u001b[1;33m\u001b[0m\u001b[1;33m\u001b[0m\u001b[0m\n\u001b[0;32m      2\u001b[0m     \u001b[0minfile1\u001b[0m\u001b[1;33m=\u001b[0m\u001b[0mopen\u001b[0m\u001b[1;33m(\u001b[0m\u001b[0mfile1\u001b[0m\u001b[1;33m,\u001b[0m\u001b[1;34m'r'\u001b[0m\u001b[1;33m)\u001b[0m\u001b[1;33m\u001b[0m\u001b[1;33m\u001b[0m\u001b[0m\n\u001b[1;32m----> 3\u001b[1;33m     \u001b[0mtext\u001b[0m\u001b[1;33m=\u001b[0m\u001b[0minfile\u001b[0m\u001b[1;33m.\u001b[0m\u001b[0mread\u001b[0m\u001b[1;33m(\u001b[0m\u001b[1;33m)\u001b[0m\u001b[1;33m\u001b[0m\u001b[1;33m\u001b[0m\u001b[0m\n\u001b[0m\u001b[0;32m      4\u001b[0m     \u001b[0minfile1\u001b[0m\u001b[1;33m.\u001b[0m\u001b[0mclose\u001b[0m\u001b[1;33m(\u001b[0m\u001b[1;33m)\u001b[0m\u001b[1;33m\u001b[0m\u001b[1;33m\u001b[0m\u001b[0m\n\u001b[0;32m      5\u001b[0m     \u001b[0moutfile\u001b[0m\u001b[1;33m=\u001b[0m\u001b[0mopen\u001b[0m\u001b[1;33m(\u001b[0m\u001b[0mfile2\u001b[0m\u001b[1;33m,\u001b[0m\u001b[1;34m'w'\u001b[0m\u001b[1;33m)\u001b[0m\u001b[1;33m\u001b[0m\u001b[1;33m\u001b[0m\u001b[0m\n",
      "\u001b[1;31mNameError\u001b[0m: name 'infile' is not defined"
     ]
    }
   ],
   "source": [
    "def fcopy(file1,file2):\n",
    "    infile1=open(file1,'r')\n",
    "    text=infile.read()\n",
    "    infile1.close()\n",
    "    outfile=open(file2,'w')\n",
    "    outfile.write('muh')\n",
    "    outfile.close()\n",
    "fcopy('4.27_1.txt','4.27_2.txt')\n",
    "    \n",
    "    "
   ]
  },
  {
   "cell_type": "markdown",
   "metadata": {},
   "source": [
    "# PRACTICE PROBLEM 4.29:"
   ]
  },
  {
   "cell_type": "code",
   "execution_count": 17,
   "metadata": {},
   "outputs": [
    {
     "name": "stdout",
     "output_type": "stream",
     "text": [
      "Line count :  2\n",
      "Word count :  4\n",
      "Character Count :  16\n"
     ]
    }
   ],
   "source": [
    "def stats(filename):\n",
    "    infile=open(filename,'r')\n",
    "    text=infile.read()\n",
    "    no_of_lines=text.count('\\n')+1\n",
    "    no_of_words=len(text.split())\n",
    "    no_of_character=len(text)-no_of_lines+1\n",
    "    print('Line count : ',no_of_lines)\n",
    "    print('Word count : ',no_of_words)\n",
    "    print('Character Count : ',no_of_character)\n",
    "stats('4.27_2.txt')\n",
    "    "
   ]
  },
  {
   "cell_type": "markdown",
   "metadata": {},
   "source": [
    "# PRACTICE PROBLEM 4.30:"
   ]
  },
  {
   "cell_type": "code",
   "execution_count": null,
   "metadata": {},
   "outputs": [],
   "source": [
    "def distribution(filename):\n",
    "    "
   ]
  }
 ],
 "metadata": {
  "kernelspec": {
   "display_name": "Python 3",
   "language": "python",
   "name": "python3"
  },
  "language_info": {
   "codemirror_mode": {
    "name": "ipython",
    "version": 3
   },
   "file_extension": ".py",
   "mimetype": "text/x-python",
   "name": "python",
   "nbconvert_exporter": "python",
   "pygments_lexer": "ipython3",
   "version": "3.7.3"
  }
 },
 "nbformat": 4,
 "nbformat_minor": 2
}
